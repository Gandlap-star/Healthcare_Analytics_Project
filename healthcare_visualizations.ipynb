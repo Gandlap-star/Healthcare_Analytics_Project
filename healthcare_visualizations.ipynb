{
 "cells": [
  {
   "cell_type": "markdown",
   "id": "17496d0c",
   "metadata": {},
   "source": [
    "# Healthcare Analytics Visualization\n",
    "This notebook demonstrates healthcare data visualization using synthetic data."
   ]
  },
  {
   "cell_type": "code",
   "execution_count": null,
   "id": "93be7946",
   "metadata": {},
   "outputs": [],
   "source": [
    "\n",
    "import pandas as pd\n",
    "import matplotlib.pyplot as plt\n",
    "\n",
    "# Load dataset\n",
    "data = pd.read_csv(\"healthcare_readmission_data.csv\")\n",
    "data.head()\n"
   ]
  },
  {
   "cell_type": "code",
   "execution_count": null,
   "id": "6766450a",
   "metadata": {},
   "outputs": [],
   "source": [
    "\n",
    "# Monthly readmission trends\n",
    "readmission_trends = data.groupby(pd.to_datetime(data['AdmissionDate']).astype('datetime64[M]'))['Readmitted'].mean()\n",
    "plt.figure(figsize=(8,5))\n",
    "readmission_trends.plot(kind='line', marker='o')\n",
    "plt.title('Monthly Readmission Rate')\n",
    "plt.ylabel('Readmission Rate')\n",
    "plt.xlabel('Month')\n",
    "plt.xticks(rotation=45)\n",
    "plt.grid(True)\n",
    "plt.show()\n"
   ]
  },
  {
   "cell_type": "code",
   "execution_count": null,
   "id": "8ec487fe",
   "metadata": {},
   "outputs": [],
   "source": [
    "\n",
    "# Cost by department\n",
    "cost_by_dept = data.groupby('Department')['Cost'].sum().sort_values(ascending=False)\n",
    "plt.figure(figsize=(8,5))\n",
    "cost_by_dept.plot(kind='bar', color='skyblue')\n",
    "plt.title('Total Healthcare Costs by Department')\n",
    "plt.ylabel('Total Cost ($)')\n",
    "plt.xlabel('Department')\n",
    "plt.xticks(rotation=45)\n",
    "plt.show()\n"
   ]
  },
  {
   "cell_type": "code",
   "execution_count": null,
   "id": "0b5ec279",
   "metadata": {},
   "outputs": [],
   "source": [
    "\n",
    "# Readmission rate by department\n",
    "readmission_by_dept = data.groupby('Department')['Readmitted'].mean().sort_values(ascending=False)\n",
    "plt.figure(figsize=(8,5))\n",
    "readmission_by_dept.plot(kind='bar', color='salmon')\n",
    "plt.title('Readmission Rate by Department')\n",
    "plt.ylabel('Average Readmission Rate')\n",
    "plt.xlabel('Department')\n",
    "plt.xticks(rotation=45)\n",
    "plt.show()\n"
   ]
  }
 ],
 "metadata": {},
 "nbformat": 4,
 "nbformat_minor": 5
}
